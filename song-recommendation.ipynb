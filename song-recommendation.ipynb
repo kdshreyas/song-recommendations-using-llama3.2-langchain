{
 "cells": [
  {
   "cell_type": "code",
   "execution_count": 1,
   "metadata": {},
   "outputs": [],
   "source": [
    "from langchain_ollama import ChatOllama\n",
    "\n",
    "llm = ChatOllama(\n",
    "    model=\"llama3.2:latest\",\n",
    "    temperature=0,\n",
    "    seed = 42,\n",
    "    # other params...\n",
    ")"
   ]
  },
  {
   "cell_type": "code",
   "execution_count": 3,
   "metadata": {},
   "outputs": [],
   "source": [
    "result = llm.invoke(\n",
    "    \"What is the capital of France?\"\n",
    ")"
   ]
  },
  {
   "cell_type": "code",
   "execution_count": 4,
   "metadata": {},
   "outputs": [
    {
     "data": {
      "text/plain": [
       "'The capital of France is Paris.'"
      ]
     },
     "execution_count": 4,
     "metadata": {},
     "output_type": "execute_result"
    }
   ],
   "source": [
    "result.content"
   ]
  },
  {
   "cell_type": "code",
   "execution_count": 7,
   "metadata": {},
   "outputs": [
    {
     "name": "stdout",
     "output_type": "stream",
     "text": [
      "Playlist Name: Whispers in the Night\n",
      "Description: A soothing blend of Indian classical and folk elements to transport you to a world of serenity.\n",
      "\n",
      "1. Raghu Dixit Project - Mere Desh\n",
      "2. A R Rahman - Kya Meri Jaan\n",
      "3. Suresh Wadkar - Tujhe Dekha To\n",
      "4. Shankar Mahadevan - Jai Ho\n",
      "5. Mohit Chauhan - Dil Se Re\n",
      "6. Arijit Singh - Baatein Kuch Ankahee Si\n",
      "7. Shreya Ghoshal - Alvida\n",
      "8. Sonu Nigam - Maine Pyaar Kiya\n",
      "9. Udit Narayan - Tum Hi Ho\n",
      "10. Mohit Chauhan - Pehli Nazar Mein\n"
     ]
    }
   ],
   "source": [
    "from langchain_core.prompts import ChatPromptTemplate\n",
    "\n",
    "prompt_template = ChatPromptTemplate([\n",
    "    (\"system\", '''\n",
    "        I want you to act as a song recommender. I will provide you with a song and you will create a playlist of 10 songs\n",
    "        that are similar to the given song. And you will provide a playlist name and description for the playlist.\n",
    "        Do not choose songs that are same name or artist. Do not write any explanations or other words,\n",
    "        just reply with the playlist name, description and the songs.\n",
    "     '''\n",
    "     ),\n",
    "    (\"user\", \"My first song is {song}.\")\n",
    "])\n",
    "\n",
    "chain = prompt_template | llm\n",
    "response = chain.invoke({\"song\": \"Guncha - Mohit Chauhan\"})\n",
    "print(response.content)"
   ]
  },
  {
   "cell_type": "code",
   "execution_count": null,
   "metadata": {},
   "outputs": [],
   "source": []
  }
 ],
 "metadata": {
  "kernelspec": {
   "display_name": "gen_ai",
   "language": "python",
   "name": "python3"
  },
  "language_info": {
   "codemirror_mode": {
    "name": "ipython",
    "version": 3
   },
   "file_extension": ".py",
   "mimetype": "text/x-python",
   "name": "python",
   "nbconvert_exporter": "python",
   "pygments_lexer": "ipython3",
   "version": "3.11.10"
  }
 },
 "nbformat": 4,
 "nbformat_minor": 2
}
